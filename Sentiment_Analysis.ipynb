{
  "cells": [
    {
      "cell_type": "markdown",
      "metadata": {
        "id": "gHyBbLKdUCAZ"
      },
      "source": [
        "# Importing Libraries"
      ]
    },
    {
      "cell_type": "code",
      "execution_count": null,
      "metadata": {
        "id": "zepXMGscT6zX"
      },
      "outputs": [],
      "source": [
        "import numpy as np\n",
        "import pandas as pd\n",
        "\n",
        "from sklearn.preprocessing import LabelEncoder\n",
        "from sklearn.model_selection import cross_val_score, GridSearchCV, cross_validate\n",
        "from sklearn.linear_model import LogisticRegression\n",
        "from sklearn.ensemble import RandomForestClassifier\n",
        "from sklearn.svm import SVC\n",
        "from sklearn.tree import DecisionTreeClassifier\n",
        "from sklearn.naive_bayes import MultinomialNB\n",
        "\n",
        "import nltk\n",
        "from nltk.corpus import stopwords\n",
        "from nltk.sentiment import SentimentIntensityAnalyzer\n",
        "from textblob import Word, TextBlob\n",
        "from sklearn.feature_extraction.text import TfidfVectorizer\n",
        "from sklearn.feature_extraction.text import CountVectorizer\n",
        "\n",
        "import matplotlib.pyplot as plt\n",
        "from wordcloud import WordCloud"
      ]
    },
    {
      "cell_type": "markdown",
      "metadata": {
        "id": "IHnl57daUInR"
      },
      "source": [
        "# Loading the dataset"
      ]
    },
    {
      "cell_type": "code",
      "execution_count": null,
      "metadata": {
        "colab": {
          "base_uri": "https://localhost:8080/",
          "height": 275
        },
        "id": "m7rvxIZNUBOG",
        "outputId": "3d0c9e78-3680-4298-eb02-5a1c58be6e38"
      },
      "outputs": [
        {
          "data": {
            "text/html": [
              "<div>\n",
              "<style scoped>\n",
              "    .dataframe tbody tr th:only-of-type {\n",
              "        vertical-align: middle;\n",
              "    }\n",
              "\n",
              "    .dataframe tbody tr th {\n",
              "        vertical-align: top;\n",
              "    }\n",
              "\n",
              "    .dataframe thead th {\n",
              "        text-align: right;\n",
              "    }\n",
              "</style>\n",
              "<table border=\"1\" class=\"dataframe\">\n",
              "  <thead>\n",
              "    <tr style=\"text-align: right;\">\n",
              "      <th></th>\n",
              "      <th>review</th>\n",
              "      <th>sentiment</th>\n",
              "    </tr>\n",
              "  </thead>\n",
              "  <tbody>\n",
              "    <tr>\n",
              "      <th>0</th>\n",
              "      <td>One of the other reviewers has mentioned that ...</td>\n",
              "      <td>positive</td>\n",
              "    </tr>\n",
              "    <tr>\n",
              "      <th>1</th>\n",
              "      <td>A wonderful little production. &lt;br /&gt;&lt;br /&gt;The...</td>\n",
              "      <td>positive</td>\n",
              "    </tr>\n",
              "    <tr>\n",
              "      <th>2</th>\n",
              "      <td>I thought this was a wonderful way to spend ti...</td>\n",
              "      <td>positive</td>\n",
              "    </tr>\n",
              "    <tr>\n",
              "      <th>3</th>\n",
              "      <td>Basically there's a family where a little boy ...</td>\n",
              "      <td>negative</td>\n",
              "    </tr>\n",
              "    <tr>\n",
              "      <th>4</th>\n",
              "      <td>Petter Mattei's \"Love in the Time of Money\" is...</td>\n",
              "      <td>positive</td>\n",
              "    </tr>\n",
              "  </tbody>\n",
              "</table>\n",
              "</div>"
            ],
            "text/plain": [
              "                                              review sentiment\n",
              "0  One of the other reviewers has mentioned that ...  positive\n",
              "1  A wonderful little production. <br /><br />The...  positive\n",
              "2  I thought this was a wonderful way to spend ti...  positive\n",
              "3  Basically there's a family where a little boy ...  negative\n",
              "4  Petter Mattei's \"Love in the Time of Money\" is...  positive"
            ]
          },
          "execution_count": 13,
          "metadata": {},
          "output_type": "execute_result"
        }
      ],
      "source": [
        "df = pd.read_csv(\"IMDB Dataset.csv\")\n",
        "df.head()"
      ]
    },
    {
      "cell_type": "markdown",
      "metadata": {
        "id": "Hkm2wcc_DqpE"
      },
      "source": [
        "## Shuffling the dataset and selecting 10,000 rows"
      ]
    },
    {
      "cell_type": "code",
      "execution_count": null,
      "metadata": {
        "id": "ifhXg6IeDqpF"
      },
      "outputs": [],
      "source": [
        "# Shuffling the dataset\n",
        "df = df.sample(frac=1, random_state=42)\n",
        "\n",
        "# Selecting only 10k observations\n",
        "df = df[:10000]"
      ]
    },
    {
      "cell_type": "code",
      "execution_count": null,
      "metadata": {
        "id": "lKCRtmf2DqpF",
        "outputId": "d7b2d181-3491-4d6c-d914-fb77d7177d51"
      },
      "outputs": [
        {
          "data": {
            "text/plain": [
              "10000"
            ]
          },
          "execution_count": 17,
          "metadata": {},
          "output_type": "execute_result"
        }
      ],
      "source": [
        "len(df)"
      ]
    },
    {
      "cell_type": "markdown",
      "metadata": {
        "id": "kKI-ptapUc93"
      },
      "source": [
        "# Data Preprocessing"
      ]
    },
    {
      "cell_type": "markdown",
      "metadata": {
        "id": "ySeILzncUgJ7"
      },
      "source": [
        "## Checking for null values"
      ]
    },
    {
      "cell_type": "code",
      "execution_count": null,
      "metadata": {
        "colab": {
          "base_uri": "https://localhost:8080/"
        },
        "id": "oSZiU9fSUaKV",
        "outputId": "ed8437d5-0ab1-4a82-df97-289a4c9cc128"
      },
      "outputs": [
        {
          "data": {
            "text/plain": [
              "review       0\n",
              "sentiment    0\n",
              "dtype: int64"
            ]
          },
          "execution_count": 18,
          "metadata": {},
          "output_type": "execute_result"
        }
      ],
      "source": [
        "df.isnull().sum()"
      ]
    },
    {
      "cell_type": "markdown",
      "metadata": {
        "id": "YphDQn3bVaQX"
      },
      "source": [
        "### There are no null values"
      ]
    },
    {
      "cell_type": "markdown",
      "metadata": {
        "id": "pwtKNTPqV_2W"
      },
      "source": [
        "## Initializing Stopwords using NLTK"
      ]
    },
    {
      "cell_type": "code",
      "execution_count": null,
      "metadata": {
        "colab": {
          "base_uri": "https://localhost:8080/"
        },
        "id": "c1AJmYTVV-Vh",
        "outputId": "049c8377-152c-4994-edb4-d87e7ea200bf"
      },
      "outputs": [
        {
          "name": "stderr",
          "output_type": "stream",
          "text": [
            "[nltk_data] Downloading package stopwords to C:\\Users\\SAMEER\n",
            "[nltk_data]     MULANI\\AppData\\Roaming\\nltk_data...\n",
            "[nltk_data]   Unzipping corpora\\stopwords.zip.\n"
          ]
        }
      ],
      "source": [
        "nltk.download('stopwords')\n",
        "stopW = stopwords.words('english')"
      ]
    },
    {
      "cell_type": "markdown",
      "metadata": {
        "id": "BaMxUVUoW6_Q"
      },
      "source": [
        "# Text Preprocessing\n",
        "## The following preprocessing has been applied to the 'review' column.\n",
        "\n",
        "1.   Lowercasing\n",
        "2.   Non-word character removal\n",
        "3. Digits Removal\n",
        "4. Stop word removal\n"
      ]
    },
    {
      "cell_type": "code",
      "execution_count": null,
      "metadata": {
        "id": "NkMVQ6WHWTfg",
        "outputId": "e8731b9c-6a35-4fd3-9ece-27fcfad1117f"
      },
      "outputs": [
        {
          "name": "stderr",
          "output_type": "stream",
          "text": [
            "<ipython-input-21-413b5685acc3>:2: FutureWarning: The default value of regex will change from True to False in a future version.\n",
            "  df['review'] = df['review'].str.replace('[^\\w\\s]', '')\n",
            "<ipython-input-21-413b5685acc3>:3: FutureWarning: The default value of regex will change from True to False in a future version.\n",
            "  df['review'] = df['review'].str.replace('\\d', '')\n"
          ]
        }
      ],
      "source": [
        "df['review'] = df['review'].str.lower()\n",
        "df['review'] = df['review'].str.replace('[^\\w\\s]', '')\n",
        "df['review'] = df['review'].str.replace('\\d', '')\n",
        "df['review'] = df['review'].apply(lambda x: \" \".join(x for x in str(x).split() if x not in stopW))"
      ]
    },
    {
      "cell_type": "code",
      "execution_count": null,
      "metadata": {
        "colab": {
          "base_uri": "https://localhost:8080/"
        },
        "id": "HEDlXXmHYH-Q",
        "outputId": "57c0bcad-cabc-408d-cf38-afd885dab8f0"
      },
      "outputs": [
        {
          "data": {
            "text/plain": [
              "33553    really liked summerslam due look arena curtain...\n",
              "9427     many television shows appeal quite many differ...\n",
              "199      film quickly gets major chase scene ever incre...\n",
              "12447    jane austen would definitely approve onebr br ...\n",
              "39489    expectations somewhat high went see movie thou...\n",
              "                               ...                        \n",
              "28567    although casper van dien michael rooker genera...\n",
              "25079    liked movie wasnt really sure started watching...\n",
              "18707    yes nonsingaporeans cant see whats big deal fi...\n",
              "15200    far films go likable enough entertaining chara...\n",
              "5857     saw anatomy years ago dubbed friends house don...\n",
              "Name: review, Length: 10000, dtype: object"
            ]
          },
          "execution_count": 24,
          "metadata": {},
          "output_type": "execute_result"
        }
      ],
      "source": [
        "df['review']"
      ]
    },
    {
      "cell_type": "markdown",
      "metadata": {
        "id": "uZUwibMlZcJ2"
      },
      "source": [
        "### Finding out words which occur less than once in the entire dataset"
      ]
    },
    {
      "cell_type": "code",
      "execution_count": null,
      "metadata": {
        "colab": {
          "base_uri": "https://localhost:8080/"
        },
        "id": "9k_L5x_nYTQI",
        "outputId": "21f9f804-fe12-4511-aea3-af6ef346327e"
      },
      "outputs": [
        {
          "data": {
            "text/plain": [
              "br              22876\n",
              "movie           16912\n",
              "film            14802\n",
              "one             10114\n",
              "like             7837\n",
              "                ...  \n",
              "tibetans            1\n",
              "torched             1\n",
              "sturridge           1\n",
              "calmalso            1\n",
              "youngpeoples        1\n",
              "Length: 73296, dtype: int64"
            ]
          },
          "execution_count": 25,
          "metadata": {},
          "output_type": "execute_result"
        }
      ],
      "source": [
        "temp_df = pd.Series(' '.join(df['review']).split()).value_counts()\n",
        "temp_df"
      ]
    },
    {
      "cell_type": "code",
      "execution_count": null,
      "metadata": {
        "id": "pAvzWPHEZbmY"
      },
      "outputs": [],
      "source": [
        "drops = temp_df[temp_df <= 1]"
      ]
    },
    {
      "cell_type": "markdown",
      "metadata": {
        "id": "OLuQVmhLZqEZ"
      },
      "source": [
        "### Removing those words"
      ]
    },
    {
      "cell_type": "code",
      "execution_count": null,
      "metadata": {
        "id": "QrtJmHQjZkq8"
      },
      "outputs": [],
      "source": [
        "df['review'] = df['review'].apply(lambda x: \" \".join(x for x in x.split() if x not in drops))"
      ]
    },
    {
      "cell_type": "markdown",
      "metadata": {
        "id": "Bsik-h0FZtVP"
      },
      "source": [
        "# Lemmatization"
      ]
    },
    {
      "cell_type": "code",
      "execution_count": null,
      "metadata": {
        "colab": {
          "base_uri": "https://localhost:8080/"
        },
        "id": "9Nx8mtIPZowV",
        "outputId": "da55fae6-a26b-444f-bb5f-9d505ace664f"
      },
      "outputs": [
        {
          "name": "stderr",
          "output_type": "stream",
          "text": [
            "[nltk_data] Downloading package wordnet to C:\\Users\\SAMEER\n",
            "[nltk_data]     MULANI\\AppData\\Roaming\\nltk_data...\n",
            "[nltk_data] Downloading package omw-1.4 to C:\\Users\\SAMEER\n",
            "[nltk_data]     MULANI\\AppData\\Roaming\\nltk_data...\n"
          ]
        },
        {
          "data": {
            "text/plain": [
              "True"
            ]
          },
          "execution_count": 28,
          "metadata": {},
          "output_type": "execute_result"
        }
      ],
      "source": [
        "nltk.download('wordnet')\n",
        "nltk.download('omw-1.4')"
      ]
    },
    {
      "cell_type": "code",
      "execution_count": null,
      "metadata": {
        "colab": {
          "base_uri": "https://localhost:8080/",
          "height": 275
        },
        "id": "wIV7WB-XZzUe",
        "outputId": "72ff571d-8c29-48e6-a95c-209042b230ba"
      },
      "outputs": [
        {
          "data": {
            "text/html": [
              "<div>\n",
              "<style scoped>\n",
              "    .dataframe tbody tr th:only-of-type {\n",
              "        vertical-align: middle;\n",
              "    }\n",
              "\n",
              "    .dataframe tbody tr th {\n",
              "        vertical-align: top;\n",
              "    }\n",
              "\n",
              "    .dataframe thead th {\n",
              "        text-align: right;\n",
              "    }\n",
              "</style>\n",
              "<table border=\"1\" class=\"dataframe\">\n",
              "  <thead>\n",
              "    <tr style=\"text-align: right;\">\n",
              "      <th></th>\n",
              "      <th>review</th>\n",
              "      <th>sentiment</th>\n",
              "    </tr>\n",
              "  </thead>\n",
              "  <tbody>\n",
              "    <tr>\n",
              "      <th>33553</th>\n",
              "      <td>really liked summerslam due look arena curtain...</td>\n",
              "      <td>positive</td>\n",
              "    </tr>\n",
              "    <tr>\n",
              "      <th>9427</th>\n",
              "      <td>many television show appeal quite many differe...</td>\n",
              "      <td>positive</td>\n",
              "    </tr>\n",
              "    <tr>\n",
              "      <th>199</th>\n",
              "      <td>film quickly get major chase scene ever increa...</td>\n",
              "      <td>negative</td>\n",
              "    </tr>\n",
              "    <tr>\n",
              "      <th>12447</th>\n",
              "      <td>jane austen would definitely approve onebr br ...</td>\n",
              "      <td>positive</td>\n",
              "    </tr>\n",
              "    <tr>\n",
              "      <th>39489</th>\n",
              "      <td>expectation somewhat high went see movie thoug...</td>\n",
              "      <td>negative</td>\n",
              "    </tr>\n",
              "  </tbody>\n",
              "</table>\n",
              "</div>"
            ],
            "text/plain": [
              "                                                  review sentiment\n",
              "33553  really liked summerslam due look arena curtain...  positive\n",
              "9427   many television show appeal quite many differe...  positive\n",
              "199    film quickly get major chase scene ever increa...  negative\n",
              "12447  jane austen would definitely approve onebr br ...  positive\n",
              "39489  expectation somewhat high went see movie thoug...  negative"
            ]
          },
          "execution_count": 29,
          "metadata": {},
          "output_type": "execute_result"
        }
      ],
      "source": [
        "df['review'] = df['review'].apply(lambda x: \" \".join([Word(word).lemmatize() for word in x.split()]))\n",
        "df.head()"
      ]
    },
    {
      "cell_type": "markdown",
      "metadata": {
        "id": "sl_80g5HJVV2"
      },
      "source": [
        "## Checking for duplicate values"
      ]
    },
    {
      "cell_type": "code",
      "execution_count": null,
      "metadata": {
        "id": "Y6h_SGKVJZA6",
        "outputId": "0ff74e9a-7dd8-43f5-e9a9-1d010ca1e0d9"
      },
      "outputs": [
        {
          "name": "stdout",
          "output_type": "stream",
          "text": [
            "The number of duplicates in training data : 22\n"
          ]
        }
      ],
      "source": [
        "print(\"The number of duplicates in training data :\",df['review'].duplicated().sum())"
      ]
    },
    {
      "cell_type": "code",
      "execution_count": null,
      "metadata": {
        "id": "z1Kaa8hCJcna",
        "outputId": "9667eef0-8b0f-437f-9373-3b7096125a59"
      },
      "outputs": [
        {
          "data": {
            "text/html": [
              "<div>\n",
              "<style scoped>\n",
              "    .dataframe tbody tr th:only-of-type {\n",
              "        vertical-align: middle;\n",
              "    }\n",
              "\n",
              "    .dataframe tbody tr th {\n",
              "        vertical-align: top;\n",
              "    }\n",
              "\n",
              "    .dataframe thead th {\n",
              "        text-align: right;\n",
              "    }\n",
              "</style>\n",
              "<table border=\"1\" class=\"dataframe\">\n",
              "  <thead>\n",
              "    <tr style=\"text-align: right;\">\n",
              "      <th></th>\n",
              "      <th>review</th>\n",
              "      <th>sentiment</th>\n",
              "    </tr>\n",
              "  </thead>\n",
              "  <tbody>\n",
              "    <tr>\n",
              "      <th>36417</th>\n",
              "      <td>bette midler showcase talent beauty diva la ve...</td>\n",
              "      <td>positive</td>\n",
              "    </tr>\n",
              "    <tr>\n",
              "      <th>15384</th>\n",
              "      <td>bette midler showcase talent beauty diva la ve...</td>\n",
              "      <td>positive</td>\n",
              "    </tr>\n",
              "    <tr>\n",
              "      <th>15849</th>\n",
              "      <td>br br back youth old man wanted marry first co...</td>\n",
              "      <td>negative</td>\n",
              "    </tr>\n",
              "    <tr>\n",
              "      <th>13413</th>\n",
              "      <td>br br back youth old man wanted marry first co...</td>\n",
              "      <td>negative</td>\n",
              "    </tr>\n",
              "    <tr>\n",
              "      <th>36207</th>\n",
              "      <td>classed real life london producer must differe...</td>\n",
              "      <td>negative</td>\n",
              "    </tr>\n",
              "  </tbody>\n",
              "</table>\n",
              "</div>"
            ],
            "text/plain": [
              "                                                  review sentiment\n",
              "36417  bette midler showcase talent beauty diva la ve...  positive\n",
              "15384  bette midler showcase talent beauty diva la ve...  positive\n",
              "15849  br br back youth old man wanted marry first co...  negative\n",
              "13413  br br back youth old man wanted marry first co...  negative\n",
              "36207  classed real life london producer must differe...  negative"
            ]
          },
          "execution_count": 32,
          "metadata": {},
          "output_type": "execute_result"
        }
      ],
      "source": [
        "df.loc[df['review'].duplicated(keep=False)].sort_values(\"review\").head()"
      ]
    },
    {
      "cell_type": "markdown",
      "metadata": {
        "id": "cugBlNSeJgQX"
      },
      "source": [
        "### Dropping these duplicates"
      ]
    },
    {
      "cell_type": "code",
      "execution_count": null,
      "metadata": {
        "id": "Lt7VXQ1mJcdc",
        "outputId": "131f86bd-cc5b-4179-81cb-155d7e4642ba"
      },
      "outputs": [
        {
          "name": "stdout",
          "output_type": "stream",
          "text": [
            "Number of observations in training abefpre dropping duplicates :  10000\n"
          ]
        }
      ],
      "source": [
        "print(\"Number of observations in training before dropping duplicates : \",df.shape[0])"
      ]
    },
    {
      "cell_type": "code",
      "execution_count": null,
      "metadata": {
        "id": "YoyUeiZDJcRz"
      },
      "outputs": [],
      "source": [
        "df = df.drop_duplicates(subset=\"review\", keep=\"first\").reset_index(drop=True)"
      ]
    },
    {
      "cell_type": "code",
      "execution_count": null,
      "metadata": {
        "id": "Z-vuwsRYJmE0",
        "outputId": "69c3a301-4866-4e27-acdd-65d1fa855d92"
      },
      "outputs": [
        {
          "name": "stdout",
          "output_type": "stream",
          "text": [
            "Number of observations in training after dropping duplicates :  9978\n"
          ]
        }
      ],
      "source": [
        "print(\"Number of observations in training after dropping duplicates : \",df.shape[0])"
      ]
    },
    {
      "cell_type": "markdown",
      "metadata": {
        "id": "n0bwQVj8bd4m"
      },
      "source": [
        "# Exploratory Data Analysis"
      ]
    },
    {
      "cell_type": "markdown",
      "metadata": {
        "id": "woZVPFaebhp_"
      },
      "source": [
        "\n",
        "Extracting Term Frequencies\n",
        "\n",
        "\n",
        "![image.png](data:image/png;base64,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)"
      ]
    },
    {
      "cell_type": "code",
      "execution_count": null,
      "metadata": {
        "colab": {
          "base_uri": "https://localhost:8080/",
          "height": 206
        },
        "id": "lTHTLksVbNdu",
        "outputId": "d0d70f9c-f9df-4da8-cd35-bcebaba48afd"
      },
      "outputs": [
        {
          "data": {
            "text/html": [
              "<div>\n",
              "<style scoped>\n",
              "    .dataframe tbody tr th:only-of-type {\n",
              "        vertical-align: middle;\n",
              "    }\n",
              "\n",
              "    .dataframe tbody tr th {\n",
              "        vertical-align: top;\n",
              "    }\n",
              "\n",
              "    .dataframe thead th {\n",
              "        text-align: right;\n",
              "    }\n",
              "</style>\n",
              "<table border=\"1\" class=\"dataframe\">\n",
              "  <thead>\n",
              "    <tr style=\"text-align: right;\">\n",
              "      <th></th>\n",
              "      <th>index</th>\n",
              "      <th>0</th>\n",
              "    </tr>\n",
              "  </thead>\n",
              "  <tbody>\n",
              "    <tr>\n",
              "      <th>0</th>\n",
              "      <td>v</td>\n",
              "      <td>135.0</td>\n",
              "    </tr>\n",
              "    <tr>\n",
              "      <th>1</th>\n",
              "      <td>match</td>\n",
              "      <td>239.0</td>\n",
              "    </tr>\n",
              "    <tr>\n",
              "      <th>2</th>\n",
              "      <td>terrible</td>\n",
              "      <td>642.0</td>\n",
              "    </tr>\n",
              "    <tr>\n",
              "      <th>3</th>\n",
              "      <td>luger</td>\n",
              "      <td>12.0</td>\n",
              "    </tr>\n",
              "    <tr>\n",
              "      <th>4</th>\n",
              "      <td>event</td>\n",
              "      <td>485.0</td>\n",
              "    </tr>\n",
              "  </tbody>\n",
              "</table>\n",
              "</div>"
            ],
            "text/plain": [
              "      index      0\n",
              "0         v  135.0\n",
              "1     match  239.0\n",
              "2  terrible  642.0\n",
              "3     luger   12.0\n",
              "4     event  485.0"
            ]
          },
          "execution_count": 36,
          "metadata": {},
          "output_type": "execute_result"
        }
      ],
      "source": [
        "tf = df[\"review\"].apply(lambda x: pd.value_counts(x.split(\" \"))).sum(axis=0).reset_index()\n",
        "tf.head()"
      ]
    },
    {
      "cell_type": "code",
      "execution_count": null,
      "metadata": {
        "id": "InN2LvXzb8_9"
      },
      "outputs": [],
      "source": [
        "tf.columns = [\"words\", \"tf\"]"
      ]
    },
    {
      "cell_type": "markdown",
      "metadata": {
        "id": "7CVXJLilDqpL"
      },
      "source": [
        "### Top 10 most frequently occuring words"
      ]
    },
    {
      "cell_type": "code",
      "execution_count": null,
      "metadata": {
        "colab": {
          "base_uri": "https://localhost:8080/",
          "height": 423
        },
        "id": "CE8yFxZYcCkF",
        "outputId": "c4e0b303-01a5-4e64-d068-20693c8471cc"
      },
      "outputs": [
        {
          "data": {
            "text/html": [
              "<div>\n",
              "<style scoped>\n",
              "    .dataframe tbody tr th:only-of-type {\n",
              "        vertical-align: middle;\n",
              "    }\n",
              "\n",
              "    .dataframe tbody tr th {\n",
              "        vertical-align: top;\n",
              "    }\n",
              "\n",
              "    .dataframe thead th {\n",
              "        text-align: right;\n",
              "    }\n",
              "</style>\n",
              "<table border=\"1\" class=\"dataframe\">\n",
              "  <thead>\n",
              "    <tr style=\"text-align: right;\">\n",
              "      <th></th>\n",
              "      <th>words</th>\n",
              "      <th>tf</th>\n",
              "    </tr>\n",
              "  </thead>\n",
              "  <tbody>\n",
              "    <tr>\n",
              "      <th>90</th>\n",
              "      <td>br</td>\n",
              "      <td>22816.0</td>\n",
              "    </tr>\n",
              "    <tr>\n",
              "      <th>225</th>\n",
              "      <td>movie</td>\n",
              "      <td>19871.0</td>\n",
              "    </tr>\n",
              "    <tr>\n",
              "      <th>251</th>\n",
              "      <td>film</td>\n",
              "      <td>17987.0</td>\n",
              "    </tr>\n",
              "    <tr>\n",
              "      <th>23</th>\n",
              "      <td>one</td>\n",
              "      <td>10551.0</td>\n",
              "    </tr>\n",
              "    <tr>\n",
              "      <th>19</th>\n",
              "      <td>like</td>\n",
              "      <td>8025.0</td>\n",
              "    </tr>\n",
              "    <tr>\n",
              "      <th>13</th>\n",
              "      <td>time</td>\n",
              "      <td>5849.0</td>\n",
              "    </tr>\n",
              "    <tr>\n",
              "      <th>218</th>\n",
              "      <td>good</td>\n",
              "      <td>5824.0</td>\n",
              "    </tr>\n",
              "    <tr>\n",
              "      <th>89</th>\n",
              "      <td>character</td>\n",
              "      <td>5576.0</td>\n",
              "    </tr>\n",
              "    <tr>\n",
              "      <th>98</th>\n",
              "      <td>get</td>\n",
              "      <td>5005.0</td>\n",
              "    </tr>\n",
              "    <tr>\n",
              "      <th>222</th>\n",
              "      <td>even</td>\n",
              "      <td>4961.0</td>\n",
              "    </tr>\n",
              "  </tbody>\n",
              "</table>\n",
              "</div>"
            ],
            "text/plain": [
              "         words       tf\n",
              "90          br  22816.0\n",
              "225      movie  19871.0\n",
              "251       film  17987.0\n",
              "23         one  10551.0\n",
              "19        like   8025.0\n",
              "13        time   5849.0\n",
              "218       good   5824.0\n",
              "89   character   5576.0\n",
              "98         get   5005.0\n",
              "222       even   4961.0"
            ]
          },
          "execution_count": 42,
          "metadata": {},
          "output_type": "execute_result"
        }
      ],
      "source": [
        "tf.sort_values(\"tf\", ascending=False)[:10]"
      ]
    },
    {
      "cell_type": "markdown",
      "metadata": {
        "id": "tcZz-X1YDqpL"
      },
      "source": [
        "## It can be observed that there are certain words which contain only 1 letter"
      ]
    },
    {
      "cell_type": "code",
      "execution_count": null,
      "metadata": {
        "id": "32BHdrc8DqpL",
        "outputId": "e1db3589-e018-413f-9355-6194029b7084"
      },
      "outputs": [
        {
          "name": "stdout",
          "output_type": "stream",
          "text": [
            "              words     tf  ContainsOneLetter\n",
            "0                 v  135.0               True\n",
            "1             match  239.0              False\n",
            "2          terrible  642.0              False\n",
            "3             luger   12.0              False\n",
            "4             event  485.0              False\n",
            "...             ...    ...                ...\n",
            "32129          cini    3.0              False\n",
            "32130        anansa    3.0              False\n",
            "32131      suleiman    2.0              False\n",
            "32132  gildersleeve    2.0              False\n",
            "32133          ywca    2.0              False\n",
            "\n",
            "[32134 rows x 3 columns]\n"
          ]
        }
      ],
      "source": [
        "def contains_one_letter(s):\n",
        "    return len(s) == 1 and s.isalpha()\n",
        "\n",
        "# Apply the function to the DataFrame column\n",
        "tf['ContainsOneLetter'] = tf['words'].apply(contains_one_letter)\n",
        "\n",
        "# Display the DataFrame\n",
        "print(tf)"
      ]
    },
    {
      "cell_type": "markdown",
      "metadata": {
        "id": "hiPlgJk1DqpQ"
      },
      "source": [
        "### There are 25 such values containing only 1 letter"
      ]
    },
    {
      "cell_type": "code",
      "execution_count": null,
      "metadata": {
        "id": "_HiqNyfVDqpQ",
        "outputId": "8079be31-b3dc-4a67-9d45-62c0bd269da0"
      },
      "outputs": [
        {
          "data": {
            "text/plain": [
              "25"
            ]
          },
          "execution_count": 55,
          "metadata": {},
          "output_type": "execute_result"
        }
      ],
      "source": [
        "true_rows = tf[tf['ContainsOneLetter']]\n",
        "len(true_rows)"
      ]
    },
    {
      "cell_type": "markdown",
      "metadata": {
        "id": "aRQxLT0eDqpQ"
      },
      "source": [
        "### Removing such words"
      ]
    },
    {
      "cell_type": "code",
      "execution_count": null,
      "metadata": {
        "id": "Z34uvSL3DqpQ"
      },
      "outputs": [],
      "source": [
        "df['review'] = df['review'].apply(lambda x: \" \".join(x for x in x.split() if x not in true_rows['words']))"
      ]
    },
    {
      "cell_type": "markdown",
      "metadata": {
        "id": "N54YII0-Hx5A"
      },
      "source": [
        "## Number of characters appearing in each sentence"
      ]
    },
    {
      "cell_type": "code",
      "execution_count": null,
      "metadata": {
        "id": "_nFR9N2QH3-3",
        "outputId": "b427a651-413b-42f3-ee47-3a4e4e9fe4c7"
      },
      "outputs": [
        {
          "data": {
            "text/plain": [
              "<AxesSubplot:>"
            ]
          },
          "execution_count": 43,
          "metadata": {},
          "output_type": "execute_result"
        },
        {
          "data": {
            "image/png": "[encoded data removed]",
            "text/plain": [
              "<Figure size 432x288 with 1 Axes>"
            ]
          },
          "metadata": {
            "needs_background": "light"
          },
          "output_type": "display_data"
        }
      ],
      "source": [
        "df['review'].str.len().hist()"
      ]
    },
    {
      "cell_type": "markdown",
      "metadata": {
        "id": "JPH1ULtJDqpR"
      },
      "source": [
        "## In the above bar chart we can observe that the number of charcters in each sentence majorly ranges from 0 to 1000"
      ]
    },
    {
      "cell_type": "markdown",
      "metadata": {
        "id": "3MPUPpcsdn4P"
      },
      "source": [
        "# **Sentiment Analysis**"
      ]
    },
    {
      "cell_type": "code",
      "execution_count": null,
      "metadata": {
        "colab": {
          "base_uri": "https://localhost:8080/"
        },
        "id": "sjWOtcGTceJk",
        "outputId": "bcd3359f-242d-4454-dd7b-47e77ded8b13"
      },
      "outputs": [
        {
          "data": {
            "text/plain": [
              "0    really liked summerslam due look arena curtain...\n",
              "1    many television show appeal quite many differe...\n",
              "2    film quickly get major chase scene ever increa...\n",
              "3    jane austen would definitely approve onebr br ...\n",
              "4    expectation somewhat high went see movie thoug...\n",
              "Name: review, dtype: object"
            ]
          },
          "execution_count": 61,
          "metadata": {},
          "output_type": "execute_result"
        }
      ],
      "source": [
        "df['review'].head()"
      ]
    },
    {
      "cell_type": "markdown",
      "metadata": {
        "id": "kDG1T-gnenjF"
      },
      "source": [
        "# Inializing VADER SIA\n",
        "\n",
        "Vader Sentiment Intensity Analyzer\n",
        "VADER (Valence Aware Dictionary and sEntiment Reasoner) is a lexicon and rule-based sentiment analysis tool specifically designed for analyzing the sentiment of text in the context of social media and informal online text. It was developed by researchers at the Georgia Institute of Technology"
      ]
    },
    {
      "cell_type": "markdown",
      "metadata": {
        "id": "iyG88JPAe3uF"
      },
      "source": [
        "**The output will include scores for positivity, neutrality, and negativity, as well as a compound score that summarizes the overall sentiment of the text.**\n",
        "\n",
        "compound score is between -1 to 1"
      ]
    },
    {
      "cell_type": "code",
      "execution_count": null,
      "metadata": {
        "colab": {
          "base_uri": "https://localhost:8080/"
        },
        "id": "P3X4igxzd0Sg",
        "outputId": "43084eda-b281-483f-8193-bab3152656ac"
      },
      "outputs": [
        {
          "name": "stderr",
          "output_type": "stream",
          "text": [
            "[nltk_data] Downloading package vader_lexicon to C:\\Users\\SAMEER\n",
            "[nltk_data]     MULANI\\AppData\\Roaming\\nltk_data...\n"
          ]
        },
        {
          "data": {
            "text/plain": [
              "True"
            ]
          },
          "execution_count": 62,
          "metadata": {},
          "output_type": "execute_result"
        }
      ],
      "source": [
        "nltk.download('vader_lexicon')"
      ]
    },
    {
      "cell_type": "code",
      "execution_count": null,
      "metadata": {
        "colab": {
          "base_uri": "https://localhost:8080/"
        },
        "id": "bHNsEdtGe_6Z",
        "outputId": "f24460e5-b5bf-4da4-8a4d-f9b739b70a11"
      },
      "outputs": [
        {
          "data": {
            "text/plain": [
              "{'neg': 0.0, 'neu': 0.477, 'pos': 0.523, 'compound': 0.659}"
            ]
          },
          "execution_count": 63,
          "metadata": {},
          "output_type": "execute_result"
        }
      ],
      "source": [
        "sia = SentimentIntensityAnalyzer()\n",
        "sia.polarity_scores('The film was very awesome')"
      ]
    },
    {
      "cell_type": "markdown",
      "metadata": {
        "id": "2jWnbtiMDqpS"
      },
      "source": [
        "### Dropping sentiment column"
      ]
    },
    {
      "cell_type": "code",
      "execution_count": null,
      "metadata": {
        "id": "qSyFXdK2DqpS"
      },
      "outputs": [],
      "source": [
        "df.drop(columns='sentiment',inplace=True)"
      ]
    },
    {
      "cell_type": "code",
      "execution_count": null,
      "metadata": {
        "colab": {
          "base_uri": "https://localhost:8080/"
        },
        "id": "e5dMdQxVfrL_",
        "outputId": "43a34942-3045-4f59-87ea-cfa46f3553f4"
      },
      "outputs": [
        {
          "data": {
            "text/plain": [
              "0    {'neg': 0.129, 'neu': 0.655, 'pos': 0.216, 'co...\n",
              "1    {'neg': 0.03, 'neu': 0.763, 'pos': 0.207, 'com...\n",
              "2    {'neg': 0.124, 'neu': 0.674, 'pos': 0.202, 'co...\n",
              "3    {'neg': 0.101, 'neu': 0.563, 'pos': 0.336, 'co...\n",
              "4    {'neg': 0.155, 'neu': 0.697, 'pos': 0.148, 'co...\n",
              "5    {'neg': 0.113, 'neu': 0.587, 'pos': 0.3, 'comp...\n",
              "6    {'neg': 0.244, 'neu': 0.424, 'pos': 0.332, 'co...\n",
              "7    {'neg': 0.116, 'neu': 0.693, 'pos': 0.191, 'co...\n",
              "8    {'neg': 0.109, 'neu': 0.664, 'pos': 0.227, 'co...\n",
              "9    {'neg': 0.092, 'neu': 0.669, 'pos': 0.239, 'co...\n",
              "Name: review, dtype: object"
            ]
          },
          "execution_count": 64,
          "metadata": {},
          "output_type": "execute_result"
        }
      ],
      "source": [
        "df[\"review\"][0:10].apply(lambda x: sia.polarity_scores(x))"
      ]
    },
    {
      "cell_type": "code",
      "execution_count": null,
      "metadata": {
        "colab": {
          "base_uri": "https://localhost:8080/"
        },
        "id": "RhA2Z_fwgA3b",
        "outputId": "92e08165-66fa-4b92-90b6-6de5dc336f16"
      },
      "outputs": [
        {
          "data": {
            "text/plain": [
              "0    0.9020\n",
              "1    0.9867\n",
              "2    0.6712\n",
              "3    0.9702\n",
              "4   -0.1243\n",
              "5    0.9975\n",
              "6    0.7430\n",
              "7    0.9488\n",
              "8    0.9624\n",
              "9    0.9801\n",
              "Name: review, dtype: float64"
            ]
          },
          "execution_count": 65,
          "metadata": {},
          "output_type": "execute_result"
        }
      ],
      "source": [
        "df[\"review\"][0:10].apply(lambda x: sia.polarity_scores(x)[\"compound\"])"
      ]
    },
    {
      "cell_type": "markdown",
      "metadata": {
        "id": "RvfRUijwgMNs"
      },
      "source": [
        "## Creating a column called polarity_score to store the compound values"
      ]
    },
    {
      "cell_type": "code",
      "execution_count": null,
      "metadata": {
        "id": "uSf6vic0gJhT"
      },
      "outputs": [],
      "source": [
        "df[\"polarity_score\"] = df[\"review\"].apply(lambda x: sia.polarity_scores(x)[\"compound\"])"
      ]
    },
    {
      "cell_type": "markdown",
      "metadata": {
        "id": "_1RmDdEYiHr7"
      },
      "source": [
        "# Feature Engineering"
      ]
    },
    {
      "cell_type": "markdown",
      "metadata": {
        "id": "Z_dlGuzJiNE2"
      },
      "source": [
        "## Labelling sentiment scores\n",
        "If compound score > 0  then it is a positive comment\n",
        "\n",
        "If coumpound score < 0 then it is a negative comment"
      ]
    },
    {
      "cell_type": "code",
      "execution_count": null,
      "metadata": {
        "colab": {
          "base_uri": "https://localhost:8080/"
        },
        "id": "jdpzHZbphOWi",
        "outputId": "9167aa9b-be00-4107-d367-39eaa74f1d1a"
      },
      "outputs": [
        {
          "data": {
            "text/plain": [
              "0    pos\n",
              "1    pos\n",
              "2    pos\n",
              "3    pos\n",
              "4    neg\n",
              "5    pos\n",
              "6    pos\n",
              "7    pos\n",
              "8    pos\n",
              "9    pos\n",
              "Name: polarity_score, dtype: object"
            ]
          },
          "execution_count": 67,
          "metadata": {},
          "output_type": "execute_result"
        }
      ],
      "source": [
        "df['polarity_score'][0:10].apply(lambda x : 'pos' if x>0 else 'neg')"
      ]
    },
    {
      "cell_type": "code",
      "execution_count": null,
      "metadata": {
        "colab": {
          "base_uri": "https://localhost:8080/"
        },
        "id": "h4U-JMltg12L",
        "outputId": "3ad4b3d6-6954-4dc1-bdf4-38dea8f63172"
      },
      "outputs": [
        {
          "data": {
            "text/plain": [
              "pos    6932\n",
              "neg    3046\n",
              "Name: sentiment_label, dtype: int64"
            ]
          },
          "execution_count": 68,
          "metadata": {},
          "output_type": "execute_result"
        }
      ],
      "source": [
        "df['sentiment_label'] = df['polarity_score'].apply(lambda x : 'pos' if x>0 else 'neg')\n",
        "df['sentiment_label'].value_counts()"
      ]
    },
    {
      "cell_type": "markdown",
      "metadata": {
        "id": "2JRM9ThzDqpU"
      },
      "source": [
        "### Visualizing classes"
      ]
    },
    {
      "cell_type": "code",
      "execution_count": null,
      "metadata": {
        "id": "c0ONPfWYDqpU",
        "outputId": "1bcfb097-cb33-4bc6-b80a-6c9f1e58b0b8"
      },
      "outputs": [
        {
          "data": {
            "text/plain": [
              "<AxesSubplot:xlabel='sentiment_label', ylabel='count'>"
            ]
          },
          "execution_count": 75,
          "metadata": {},
          "output_type": "execute_result"
        },
        {
          "data": {
            "image/png": "[encoded data removed]",
            "text/plain": [
              "<Figure size 432x288 with 1 Axes>"
            ]
          },
          "metadata": {
            "needs_background": "light"
          },
          "output_type": "display_data"
        }
      ],
      "source": [
        "import seaborn as sns\n",
        "sns.countplot(x = 'sentiment_label',data = df)"
      ]
    },
    {
      "cell_type": "markdown",
      "metadata": {
        "id": "6igDs2THkn11"
      },
      "source": [
        "## Label encoding the sentiment_label column"
      ]
    },
    {
      "cell_type": "code",
      "execution_count": null,
      "metadata": {
        "id": "czJ3fyXckDTo"
      },
      "outputs": [],
      "source": [
        "df[\"sentiment_label\"] = LabelEncoder().fit_transform(df[\"sentiment_label\"])"
      ]
    },
    {
      "cell_type": "code",
      "execution_count": null,
      "metadata": {
        "colab": {
          "base_uri": "https://localhost:8080/",
          "height": 449
        },
        "id": "7hqDXEmgks6K",
        "outputId": "fa8b50fa-ff0d-473f-b8af-7d1233744056"
      },
      "outputs": [
        {
          "data": {
            "text/html": [
              "<div>\n",
              "<style scoped>\n",
              "    .dataframe tbody tr th:only-of-type {\n",
              "        vertical-align: middle;\n",
              "    }\n",
              "\n",
              "    .dataframe tbody tr th {\n",
              "        vertical-align: top;\n",
              "    }\n",
              "\n",
              "    .dataframe thead th {\n",
              "        text-align: right;\n",
              "    }\n",
              "</style>\n",
              "<table border=\"1\" class=\"dataframe\">\n",
              "  <thead>\n",
              "    <tr style=\"text-align: right;\">\n",
              "      <th></th>\n",
              "      <th>review</th>\n",
              "      <th>polarity_score</th>\n",
              "      <th>sentiment_label</th>\n",
              "    </tr>\n",
              "  </thead>\n",
              "  <tbody>\n",
              "    <tr>\n",
              "      <th>0</th>\n",
              "      <td>really liked summerslam due look arena curtain...</td>\n",
              "      <td>0.9020</td>\n",
              "      <td>1</td>\n",
              "    </tr>\n",
              "    <tr>\n",
              "      <th>1</th>\n",
              "      <td>many television show appeal quite many differe...</td>\n",
              "      <td>0.9867</td>\n",
              "      <td>1</td>\n",
              "    </tr>\n",
              "    <tr>\n",
              "      <th>2</th>\n",
              "      <td>film quickly get major chase scene ever increa...</td>\n",
              "      <td>0.6712</td>\n",
              "      <td>1</td>\n",
              "    </tr>\n",
              "    <tr>\n",
              "      <th>3</th>\n",
              "      <td>jane austen would definitely approve onebr br ...</td>\n",
              "      <td>0.9702</td>\n",
              "      <td>1</td>\n",
              "    </tr>\n",
              "    <tr>\n",
              "      <th>4</th>\n",
              "      <td>expectation somewhat high went see movie thoug...</td>\n",
              "      <td>-0.1243</td>\n",
              "      <td>0</td>\n",
              "    </tr>\n",
              "  </tbody>\n",
              "</table>\n",
              "</div>"
            ],
            "text/plain": [
              "                                              review  polarity_score  \\\n",
              "0  really liked summerslam due look arena curtain...          0.9020   \n",
              "1  many television show appeal quite many differe...          0.9867   \n",
              "2  film quickly get major chase scene ever increa...          0.6712   \n",
              "3  jane austen would definitely approve onebr br ...          0.9702   \n",
              "4  expectation somewhat high went see movie thoug...         -0.1243   \n",
              "\n",
              "   sentiment_label  \n",
              "0                1  \n",
              "1                1  \n",
              "2                1  \n",
              "3                1  \n",
              "4                0  "
            ]
          },
          "execution_count": 77,
          "metadata": {},
          "output_type": "execute_result"
        }
      ],
      "source": [
        "df.head()"
      ]
    },
    {
      "cell_type": "markdown",
      "metadata": {
        "id": "YRBVtLQd4TEq"
      },
      "source": [
        "## Reviews with highest polarity score"
      ]
    },
    {
      "cell_type": "code",
      "execution_count": null,
      "metadata": {
        "id": "HMFkBQPZ4Occ",
        "outputId": "9da83f24-f326-4787-86e0-f40e4ed4bc50"
      },
      "outputs": [
        {
          "name": "stdout",
          "output_type": "stream",
          "text": [
            "Review with Highest Polarity:\n",
            "Review 1:\n",
            " actually great fun really enjoyed even though wasnt original robert de niro eddie murphy great together character cool story pretty good plus robert de niro eddie murphy simply amazing rene russo excellent role plenty laugh throughout especially deniro spoof clint eastwood danny glovers line plus finale great yes another run mil buddy buddy cop film work due fantastic chemistry de niro murphy plus great car chase scene well nothing great really however found great fun perfect way pas main villain weak wasnt good far best buddy buddy cop film however still entertaining one thought pretty well made written well plus ending quite funny actually great fun really enjoyed even though wasnt original de niro eddie murphy great together highly recommend one direction good tom dey good job great camera work cool angle keeping film fast pace acting lot fun robert deniro amazing always amazing hilarious likable fantastic chemistry eddie murhpy usual awesome stuff pulled really funny face seemed enjoying funny line really cool character de niro rule eddie murphy also amazing hilarious like de niro usual funny stuff obviously loved front camera stuff sleep still lot fun watch murphy rule rene russo fantastic cool character didnt much added lot screen presence made character interesting always great russo rule william shatner funny surprisingly didnt overdo brought good laugh film main villain ok kind weak rather bland still adequately rest cast fine overall highly recommend one\n"
          ]
        }
      ],
      "source": [
        "print(\"Review with Highest Polarity:\")\n",
        "for index,review in enumerate(df.iloc[df['polarity_score'].sort_values(ascending=False)[:1].index]['review']):\n",
        "  print('Review {}:\\n'.format(index+1),review)"
      ]
    },
    {
      "cell_type": "markdown",
      "metadata": {
        "id": "5pCqc-C_4Ws5"
      },
      "source": [
        "## Reviews with lowest polarity score"
      ]
    },
    {
      "cell_type": "code",
      "execution_count": null,
      "metadata": {
        "id": "KQisDvOv4Z9y",
        "outputId": "b0d4c32f-3e33-47f0-e96a-3820579b4156"
      },
      "outputs": [
        {
          "name": "stdout",
          "output_type": "stream",
          "text": [
            "Review with Lowest Polarity:\n",
            "Review 1:\n",
            " fire plain film excellent many level enough good thing said regret able see film soonerbr br something film purist tend look film artistic merit based upon dialog acting photography even effort remain true period term costume ultimately want know film truthful enough revealing human condition make think without oppressing director want thinkbr br fire plain great film craft portrait filled realistic human reaction dying fire great historical catastrophebr br ichikawas film condemnation war level good war film war horrifying bloody destructive also murderous psyche however fundamental fire plain unapologetic look japanese soldier show slowly collapsing weight superior american firepower nation inability wage war making fatalistic code encouraging death surrender heart madnessbr br astonished see honest brutally close look bitter fruit japan military misadventure made year end japanese call great pacific war ichikawa reveals german called war life plight common soldierbr br ichikawas film interesting since even today japan hard time fully coming term wartime fanaticism subjugation conquered people racism war chinese war crime included cannibalism soldier officer practiced one another allied prisoner warbr br ichikawa produce stark representation victimization soldier confluence bad political decision cultural pressuresbr br stark examination skillfully done portraying doomed soldier human being exhibit various time fear brilliantly laconic humor dialog enriched plot whose complexity belied grim wilderness settingbr br ichikawas portrait ragged painful tapestry defeated men tubercular tamura played gentle soul good soldier cant abandon humanity though frightened lost comrade departs hospital reject healthy tamura given hand grenade superior recognizing hopelessness situation advises tamura kill himselfbr br tamuras hopelessly militarily incapable unit ordered surrender start film telling ichikawa make plain war everyone merely waiting die tamura leaf unit hopeless search physical spiritual salvation see comrade pointlessly digging air raid shelter appear like corps looking mass gravebr br later watch overworked hospital medical staff abandon dying patient american artillery barrage pathetic patient crawl hut vain attempt survive appear like pathetic serpentine creature dragging omnipotent force know wont survivebr br ichikawa make plain thing worse defeated army one lost honor abandoning humanity comrade tamura stagger jungle encounter noble dying exploitive cannibalism rear ugly head soldier begin eat one another rather surrender american corned br men talk surrender propaganda american kill prisoner countered soldier reveals approaching american feed care prisoner war unlike japanese respect brave soldier forced give upbr br japanese intend die fighting emperor long resistance lost meaning willing fight death killed warbr br shooting murderous cannibalistic comrade earlier offered body food fatalistic tamuras careless surrender also seems intentional form suicide death lonely image ichikawa trying tell u internal conflict ordinary soldier want live still trapped nation suicidal cultural br someone watch film carefully see absolutism fanaticism enemy american portrayed technologically advanced people willing employ technology form inexorable military power lesson transformed japanese postwar society ichikawas film isnt shallow indicts america ichikawa indicts layer japan destructive policy created war continue lostbr br ichikawa mention nuclear weapon dropped upon nagasaki hiroshima doesnt slowmotion destruction imperial japanese army philippine reveals seed japan\n"
          ]
        }
      ],
      "source": [
        "print(\"Review with Lowest Polarity:\")\n",
        "for index,review in enumerate(df.iloc[df['polarity_score'].sort_values(ascending=True)[:].index]['review']):\n",
        "  print('Review {}:\\n'.format(index+1),review)"
      ]
    },
    {
      "cell_type": "markdown",
      "metadata": {
        "id": "rdBUKvDI4MFD"
      },
      "source": [
        "## X,y"
      ]
    },
    {
      "cell_type": "code",
      "execution_count": null,
      "metadata": {
        "id": "eJqFz4tgkuMb"
      },
      "outputs": [],
      "source": [
        "y = df['sentiment_label']\n",
        "X = df['review']"
      ]
    },
    {
      "cell_type": "markdown",
      "metadata": {
        "id": "kMYOUqEdmukx"
      },
      "source": [
        "# **Application of TF-IDF and N-Gram**"
      ]
    },
    {
      "cell_type": "code",
      "execution_count": null,
      "metadata": {
        "id": "xY3iVeAvlukN"
      },
      "outputs": [],
      "source": [
        "tf_idf_word_vectorizer = TfidfVectorizer()\n",
        "X_tf_idf_word = tf_idf_word_vectorizer.fit_transform(X)"
      ]
    },
    {
      "cell_type": "markdown",
      "metadata": {
        "id": "ZLvRfVf9DqpW"
      },
      "source": [
        "## Train test split"
      ]
    },
    {
      "cell_type": "code",
      "execution_count": null,
      "metadata": {
        "id": "3cRAYRMaDqpW"
      },
      "outputs": [],
      "source": [
        "from sklearn.model_selection import train_test_split\n",
        "X_train, X_test, y_train, y_test = train_test_split(X_tf_idf_word, y, test_size=0.3, random_state=42)"
      ]
    },
    {
      "cell_type": "markdown",
      "metadata": {
        "id": "Ljx2NdzpnjOM"
      },
      "source": [
        "# **Sentiment Modelling**"
      ]
    },
    {
      "cell_type": "markdown",
      "metadata": {
        "id": "fxuZB6bynqa0"
      },
      "source": [
        "**Order of Execution**\n",
        "\n",
        "\n",
        "\n",
        "1.   Model Initialization\n",
        "2.   Model Fitting on our training data\n",
        "3. Model Cross-Validation with 5 folds\n",
        "4. Testing Model Generalizability\n",
        "\n"
      ]
    },
    {
      "cell_type": "markdown",
      "metadata": {
        "id": "L0WwcaH7oBqH"
      },
      "source": [
        "# 1)  **MultiNomial Naive Bayes**"
      ]
    },
    {
      "cell_type": "code",
      "execution_count": null,
      "metadata": {
        "colab": {
          "base_uri": "https://localhost:8080/"
        },
        "id": "-9xLIKF7nZxV",
        "outputId": "87dd4d39-a437-4a48-eb43-0417ccd98aaa"
      },
      "outputs": [
        {
          "name": "stdout",
          "output_type": "stream",
          "text": [
            "0.6987399318638179\n"
          ]
        }
      ],
      "source": [
        "nb_model = MultinomialNB().fit(X_train, y_train)\n",
        "nb_score = cross_val_score(nb_model,\n",
        "                X_train,\n",
        "                y_train,\n",
        "                scoring=\"accuracy\",\n",
        "                cv=5).mean()\n",
        "print(nb_score)"
      ]
    },
    {
      "cell_type": "code",
      "execution_count": null,
      "metadata": {
        "id": "f6yGVJ4jDZCd"
      },
      "outputs": [],
      "source": [
        "from sklearn.metrics import confusion_matrix, ConfusionMatrixDisplay\n",
        "from sklearn.metrics import f1_score\n",
        "\n",
        "predictions = nb_model.predict(X_test)\n",
        "f1_nb = f1_score(y_test,predictions)            #STORING F1 SCORE"
      ]
    },
    {
      "cell_type": "markdown",
      "metadata": {
        "id": "ISgL72BAobzT"
      },
      "source": [
        "# 2) **Logistic Regressor**"
      ]
    },
    {
      "cell_type": "code",
      "execution_count": null,
      "metadata": {
        "colab": {
          "base_uri": "https://localhost:8080/"
        },
        "id": "-KPN6wzGoXKc",
        "outputId": "9b3d0270-e842-431a-be47-3f720217f429"
      },
      "outputs": [
        {
          "name": "stdout",
          "output_type": "stream",
          "text": [
            "0.7973939243528395\n"
          ]
        }
      ],
      "source": [
        "lr_model = LogisticRegression().fit(X_train, y_train)\n",
        "lr_score = cross_val_score(lr_model,\n",
        "                X_train,\n",
        "                y_train,\n",
        "                scoring=\"accuracy\",\n",
        "                cv=5).mean()\n",
        "print(lr_score)\n"
      ]
    },
    {
      "cell_type": "code",
      "execution_count": null,
      "metadata": {
        "id": "8Rbs7XsNDqpX"
      },
      "outputs": [],
      "source": [
        "from sklearn.metrics import confusion_matrix, ConfusionMatrixDisplay\n",
        "from sklearn.metrics import f1_score\n",
        "\n",
        "predictions = lr_model.predict(X_test)\n",
        "f1_lr = f1_score(y_test,predictions)               #STORING F1 SCORE"
      ]
    },
    {
      "cell_type": "markdown",
      "metadata": {
        "id": "Zedqpv3hokkh"
      },
      "source": [
        "# 3) **Support Vector Model**"
      ]
    },
    {
      "cell_type": "code",
      "execution_count": null,
      "metadata": {
        "colab": {
          "base_uri": "https://localhost:8080/"
        },
        "id": "07LH8GVRojGx",
        "outputId": "8de8969f-969a-4856-e7e6-3b59dcad4d21"
      },
      "outputs": [
        {
          "name": "stdout",
          "output_type": "stream",
          "text": [
            "0.8016896624572099\n"
          ]
        }
      ],
      "source": [
        "svc_model = SVC().fit(X_train, y_train)\n",
        "svc_score = cross_val_score(svc_model,\n",
        "                X_train,\n",
        "                y_train, scoring = \"accuracy\",\n",
        "                cv=5, n_jobs=-1).mean()\n",
        "print(svc_score)"
      ]
    },
    {
      "cell_type": "code",
      "execution_count": null,
      "metadata": {
        "id": "k-9iYMznDqpY"
      },
      "outputs": [],
      "source": [
        "from sklearn.metrics import confusion_matrix, ConfusionMatrixDisplay\n",
        "from sklearn.metrics import f1_score\n",
        "\n",
        "predictions = svc_model.predict(X_test)\n",
        "f1_svc = f1_score(y_test,predictions)             #STORING F1 SCORE"
      ]
    },
    {
      "cell_type": "markdown",
      "metadata": {
        "id": "KNVoXJ-VovTg"
      },
      "source": [
        "# 4) **Decision Tree Model**"
      ]
    },
    {
      "cell_type": "code",
      "execution_count": null,
      "metadata": {
        "colab": {
          "base_uri": "https://localhost:8080/"
        },
        "id": "HcrG4l9couEf",
        "outputId": "c50a8d34-7a07-4609-f738-6d7bb8918f88"
      },
      "outputs": [
        {
          "name": "stdout",
          "output_type": "stream",
          "text": [
            "0.6990279005564524\n"
          ]
        }
      ],
      "source": [
        "dc_model = DecisionTreeClassifier().fit(X_train, y_train)\n",
        "dc_score = cross_val_score(dc_model,\n",
        "                X_train,\n",
        "                y_train, scoring = \"accuracy\",\n",
        "                cv=5, n_jobs=-1).mean()\n",
        "print(dc_score)\n"
      ]
    },
    {
      "cell_type": "code",
      "execution_count": null,
      "metadata": {
        "id": "Nw0bQKYmDqpY"
      },
      "outputs": [],
      "source": [
        "from sklearn.metrics import confusion_matrix, ConfusionMatrixDisplay\n",
        "from sklearn.metrics import f1_score\n",
        "\n",
        "predictions = dc_model.predict(X_test)\n",
        "f1_dc = f1_score(y_test,predictions)                #STORING F1 SCORE"
      ]
    },
    {
      "cell_type": "markdown",
      "metadata": {
        "id": "7p0qVXc6o4O0"
      },
      "source": [
        "# 5) **Random Forest Model**"
      ]
    },
    {
      "cell_type": "code",
      "execution_count": null,
      "metadata": {
        "colab": {
          "base_uri": "https://localhost:8080/"
        },
        "id": "Bk90CNBho3Wi",
        "outputId": "c7102a02-7347-4928-eac9-aeacffc1d4fb"
      },
      "outputs": [
        {
          "name": "stdout",
          "output_type": "stream",
          "text": [
            "0.7571585037934337\n"
          ]
        }
      ],
      "source": [
        "rf_model = RandomForestClassifier().fit(X_train, y_train)\n",
        "rf_score = cross_val_score(rf_model,\n",
        "                X_train,\n",
        "                y_train, scoring = \"accuracy\",\n",
        "                cv=5, n_jobs=-1).mean()\n",
        "print(rf_score)"
      ]
    },
    {
      "cell_type": "code",
      "execution_count": null,
      "metadata": {
        "id": "MYy5uqzgDqpZ"
      },
      "outputs": [],
      "source": [
        "from sklearn.metrics import confusion_matrix, ConfusionMatrixDisplay\n",
        "from sklearn.metrics import f1_score\n",
        "\n",
        "predictions = rf_model.predict(X_test)\n",
        "f1_rf = f1_score(y_test,predictions)            #STORING F1 SCORE"
      ]
    },
    {
      "cell_type": "markdown",
      "metadata": {
        "id": "hVsEBBfppHWW"
      },
      "source": [
        "# Printing all Model Scores"
      ]
    },
    {
      "cell_type": "code",
      "execution_count": null,
      "metadata": {
        "colab": {
          "base_uri": "https://localhost:8080/",
          "height": 427
        },
        "id": "1QMQKj7opAE7",
        "outputId": "e9564519-83a9-4bbe-ff11-072951152997"
      },
      "outputs": [
        {
          "data": {
            "image/png": "[encoded data removed]",
            "text/plain": [
              "<Figure size 432x288 with 1 Axes>"
            ]
          },
          "metadata": {
            "needs_background": "light"
          },
          "output_type": "display_data"
        }
      ],
      "source": [
        "scores = {\n",
        "    'Model Name' : [\"MultiNomial NB\", \"Logistic Regressor\", \"Support Vector Classifier\", \"Decision Tree Classifier\", \"Random Forest Classifier\"],\n",
        "    'Scores' : [f1_nb, f1_lr, f1_svc, f1_dc, f1_rf]\n",
        "}\n",
        "\n",
        "scores_df = pd.DataFrame(scores)\n",
        "scores_df.sort_values(by='Scores',inplace=True)\n",
        "\n",
        "scores_df.plot(x='Model Name', y='Scores', kind='barh',colormap = 'plasma')\n",
        "\n",
        "\n",
        "\n",
        "plt.xlabel('Scores')\n",
        "plt.ylabel('Model Name')\n",
        "plt.title('Model F1 Scores')\n",
        "\n",
        "plt.show()"
      ]
    },
    {
      "cell_type": "markdown",
      "metadata": {
        "id": "qBtvnP0VDqpZ"
      },
      "source": [
        "# In the above chart we can see that Support Vector Classifier gives us the highest F1-score  \n",
        "\n",
        "## (The above bar chart is sorted in descending order)"
      ]
    },
    {
      "cell_type": "markdown",
      "metadata": {
        "id": "bL9ILi2xDqpZ"
      },
      "source": [
        "# Checking generalizability of the SVC model"
      ]
    },
    {
      "cell_type": "code",
      "execution_count": null,
      "metadata": {
        "id": "iJoAibsYDqpZ",
        "outputId": "55e61730-515e-4501-bccc-2e475c10fcb6"
      },
      "outputs": [
        {
          "name": "stdout",
          "output_type": "stream",
          "text": [
            "It is a positive review\n"
          ]
        }
      ],
      "source": [
        "# introducing a positive review\n",
        "new_review = pd.Series(\"This movie is amazing, highly recommended.\")\n",
        "\n",
        "#vectorizing the review\n",
        "new_review = TfidfVectorizer().fit(X).transform(new_review)\n",
        "\n",
        "# predicting the sentiment of our review\n",
        "if svc_model.predict(new_review) == 1:\n",
        "    print('It is a positive review')\n",
        "else:\n",
        "    print('It is a negative review')\n",
        ""
      ]
    },
    {
      "cell_type": "code",
      "execution_count": null,
      "metadata": {
        "id": "zddMEgieDqpZ",
        "outputId": "4aefcfcf-23ec-4f08-b67a-1882d4d6be70"
      },
      "outputs": [
        {
          "name": "stdout",
          "output_type": "stream",
          "text": [
            "It is a negative review\n"
          ]
        }
      ],
      "source": [
        "# introducing a negative review\n",
        "new_review = pd.Series(\"This is the worst movie I have ever watched\")\n",
        "\n",
        "# vectorizing the review\n",
        "new_review = TfidfVectorizer().fit(X).transform(new_review)\n",
        "\n",
        "# predicting the sentiment of our review\n",
        "if svc_model.predict(new_review) == 1:\n",
        "    print('It is a positive review')\n",
        "else:\n",
        "    print('It is a negative review')\n",
        ""
      ]
    },
    {
      "cell_type": "code",
      "execution_count": null,
      "metadata": {
        "id": "5uv8Wz_7Dqpa"
      },
      "outputs": [],
      "source": []
    }
  ],
  "metadata": {
    "colab": {
      "provenance": []
    },
    "kernelspec": {
      "display_name": "Python 3",
      "language": "python",
      "name": "python3"
    },
    "language_info": {
      "codemirror_mode": {
        "name": "ipython",
        "version": 3
      },
      "file_extension": ".py",
      "mimetype": "text/x-python",
      "name": "python",
      "nbconvert_exporter": "python",
      "pygments_lexer": "ipython3",
      "version": "3.8.8"
    }
  },
  "nbformat": 4,
  "nbformat_minor": 0
}